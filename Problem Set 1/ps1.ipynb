{
 "cells": [
  {
   "cell_type": "code",
   "execution_count": 109,
   "metadata": {},
   "outputs": [],
   "source": [
    "import numpy as np\n",
    "import pandas as pd\n",
    "import matplotlib.pyplot as plt"
   ]
  },
  {
   "attachments": {},
   "cell_type": "markdown",
   "metadata": {},
   "source": [
    "# Problem 1"
   ]
  },
  {
   "attachments": {},
   "cell_type": "markdown",
   "metadata": {},
   "source": [
    "## (a)"
   ]
  },
  {
   "cell_type": "code",
   "execution_count": 110,
   "metadata": {},
   "outputs": [
    {
     "name": "stdout",
     "output_type": "stream",
     "text": [
      "The average monthly return of the market is \n",
      "-0.004779982743744636\n",
      "the volatility is\n",
      "5.352554226265553\n",
      "The average monthly Sharpe Ratio is\n",
      "0.12519321055872606\n"
     ]
    }
   ],
   "source": [
    "ff = pd.read_csv('data/F-F_Research_Data_Factors.csv')\n",
    "avg_monthly_ff = ff['Mkt-RF'].diff().mean() # unsure if this means relative returns or average rate of return\n",
    "volatility_ff = ff['Mkt-RF'].std()\n",
    "sharpe_ratio_ff = (ff['Mkt-RF']/volatility_ff).mean()\n",
    "print(\"The average monthly return of the market is \")\n",
    "print(avg_monthly_ff)\n",
    "print(\"the volatility is\")\n",
    "print(volatility_ff)\n",
    "print(\"The average monthly Sharpe Ratio is\")\n",
    "print(sharpe_ratio_ff)"
   ]
  },
  {
   "attachments": {},
   "cell_type": "markdown",
   "metadata": {},
   "source": [
    "## (b) "
   ]
  },
  {
   "cell_type": "code",
   "execution_count": 111,
   "metadata": {},
   "outputs": [
    {
     "name": "stdout",
     "output_type": "stream",
     "text": [
      "The average monthly return of the CA is\n",
      "0.015342584869578116\n",
      "the volatility is\n",
      "2.6293585544149796\n",
      "The average monthly Sharpe Ratio is\n",
      "0.27914421507930354\n"
     ]
    }
   ],
   "source": [
    "sdf = pd.read_csv('data/ps1_strategies.csv')\n",
    "avg_monthly_sdf = sdf.CA.diff().mean()\n",
    "volatility_sdf = sdf.CA.std() # Not sure if this works for excess returns or if I need to subtract the risk free rate\n",
    "sharpe_ratio_sdf = (sdf.CA/volatility_sdf).mean()\n",
    "print(\"The average monthly return of the CA is\")\n",
    "print(avg_monthly_sdf)\n",
    "print(\"the volatility is\")\n",
    "print(volatility_sdf)\n",
    "print(\"The average monthly Sharpe Ratio is\")\n",
    "print(sharpe_ratio_sdf)"
   ]
  },
  {
   "attachments": {},
   "cell_type": "markdown",
   "metadata": {},
   "source": [
    "## (c)"
   ]
  },
  {
   "cell_type": "code",
   "execution_count": 112,
   "metadata": {},
   "outputs": [],
   "source": [
    "def generate_capm(rpmrf, rm=ff['Mkt-RF']+ff.RF, rf=ff.RF):\n",
    "    '''\n",
    "    rp: excess return of the portfolio\n",
    "    rm: excess return of the market\n",
    "    rf: risk free rate\n",
    "    '''\n",
    "    beta = np.cov((rpmrf+rf), rm)[0, 1]/np.var(rm)\n",
    "    alpha = np.mean(rpmrf) - beta*np.mean(rm - rf)\n",
    "    return beta, alpha"
   ]
  },
  {
   "attachments": {},
   "cell_type": "markdown",
   "metadata": {},
   "source": [
    "## (d)"
   ]
  },
  {
   "cell_type": "code",
   "execution_count": 113,
   "metadata": {},
   "outputs": [],
   "source": [
    "ff_trim = ff[ff['Month'] >= sdf['date'].min()]\n",
    "ff_trim = ff_trim[ff_trim['Month'] <= sdf['date'].max()] \n",
    "ff_trim = ff_trim.reset_index(drop=True)\n"
   ]
  },
  {
   "cell_type": "code",
   "execution_count": 114,
   "metadata": {},
   "outputs": [
    {
     "name": "stdout",
     "output_type": "stream",
     "text": [
      "The beta of the CA is\n",
      "0.48846335461929824\n",
      "The alpha of the CA is\n",
      "0.3981855091562549\n"
     ]
    }
   ],
   "source": [
    "beta, alpha = generate_capm(sdf.CA.to_numpy(), (ff_trim['Mkt-RF'] + ff_trim['RF']).to_numpy(), ff_trim.RF.to_numpy())\n",
    "print(\"The beta of the CA is\")\n",
    "print(beta)\n",
    "print(\"The alpha of the CA is\")\n",
    "print(alpha)"
   ]
  },
  {
   "cell_type": "code",
   "execution_count": 115,
   "metadata": {},
   "outputs": [],
   "source": [
    "returns = ff_trim.RF + beta*ff_trim['Mkt-RF']"
   ]
  },
  {
   "attachments": {},
   "cell_type": "markdown",
   "metadata": {},
   "source": [
    "## (f)\n",
    "does he want excess or total returns?"
   ]
  },
  {
   "cell_type": "code",
   "execution_count": 116,
   "metadata": {},
   "outputs": [
    {
     "data": {
      "text/plain": [
       "<matplotlib.legend.Legend at 0x1746f5310>"
      ]
     },
     "execution_count": 116,
     "metadata": {},
     "output_type": "execute_result"
    },
    {
     "data": {
      "image/png": "[encoded data removed]",
      "text/plain": [
       "<Figure size 432x288 with 1 Axes>"
      ]
     },
     "metadata": {
      "needs_background": "light"
     },
     "output_type": "display_data"
    }
   ],
   "source": [
    "#plot cumulative returns, market cumulative returns, and CA cumulative returns\n",
    "plt.plot(ff_trim['Mkt-RF'].cumsum(), label='Mkt')\n",
    "plt.plot(sdf.CA.cumsum(), label='CA')\n",
    "plt.plot((returns - ff_trim.RF).cumsum(), label='CAPM')\n",
    "plt.legend()"
   ]
  },
  {
   "attachments": {},
   "cell_type": "markdown",
   "metadata": {},
   "source": [
    "## (g)\n",
    "Despite having a high alpha value, it seems that CA would not make a good hedge fund strategy as it follows the market pretty closely. It would seem that CAPM is not an appropriate model for this strategy."
   ]
  }
 ],
 "metadata": {
  "kernelspec": {
   "display_name": "Python 3",
   "language": "python",
   "name": "python3"
  },
  "language_info": {
   "codemirror_mode": {
    "name": "ipython",
    "version": 3
   },
   "file_extension": ".py",
   "mimetype": "text/x-python",
   "name": "python",
   "nbconvert_exporter": "python",
   "pygments_lexer": "ipython3",
   "version": "3.9.12"
  },
  "orig_nbformat": 4
 },
 "nbformat": 4,
 "nbformat_minor": 2
}
