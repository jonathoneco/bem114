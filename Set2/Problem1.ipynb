{
 "cells": [
  {
   "cell_type": "code",
   "execution_count": 1,
   "metadata": {},
   "outputs": [],
   "source": [
    "import numpy as np\n",
    "import pandas as pd\n",
    "import matplotlib.pyplot as plt"
   ]
  },
  {
   "cell_type": "code",
   "execution_count": 2,
   "metadata": {},
   "outputs": [],
   "source": [
    "crsp = pd.read_csv(\"data/crsp_1926_2020.csv\")\n",
    "crsp = crsp[(crsp['SHRCD'] == 10) | (crsp['SHRCD']==11)]\n",
    "crsp = crsp[(crsp['EXCHCD']==1) | (crsp['EXCHCD']==2) | (crsp['EXCHCD']==3)]\n",
    "crsp.loc[crsp['PRC']<0, 'PRC'] = pd.NA"
   ]
  },
  {
   "cell_type": "code",
   "execution_count": 3,
   "metadata": {},
   "outputs": [
    {
     "data": {
      "text/html": [
       "<div>\n",
       "<style scoped>\n",
       "    .dataframe tbody tr th:only-of-type {\n",
       "        vertical-align: middle;\n",
       "    }\n",
       "\n",
       "    .dataframe tbody tr th {\n",
       "        vertical-align: top;\n",
       "    }\n",
       "\n",
       "    .dataframe thead th {\n",
       "        text-align: right;\n",
       "    }\n",
       "</style>\n",
       "<table border=\"1\" class=\"dataframe\">\n",
       "  <thead>\n",
       "    <tr style=\"text-align: right;\">\n",
       "      <th></th>\n",
       "      <th>PERMNO</th>\n",
       "      <th>date</th>\n",
       "      <th>SHRCD</th>\n",
       "      <th>EXCHCD</th>\n",
       "      <th>PRC</th>\n",
       "      <th>RET</th>\n",
       "      <th>SHROUT</th>\n",
       "    </tr>\n",
       "  </thead>\n",
       "  <tbody>\n",
       "    <tr>\n",
       "      <th>1</th>\n",
       "      <td>10000</td>\n",
       "      <td>1986-01-31</td>\n",
       "      <td>10.0</td>\n",
       "      <td>3.0</td>\n",
       "      <td>&lt;NA&gt;</td>\n",
       "      <td>C</td>\n",
       "      <td>3680.0</td>\n",
       "    </tr>\n",
       "    <tr>\n",
       "      <th>2</th>\n",
       "      <td>10000</td>\n",
       "      <td>1986-02-28</td>\n",
       "      <td>10.0</td>\n",
       "      <td>3.0</td>\n",
       "      <td>&lt;NA&gt;</td>\n",
       "      <td>-0.257143</td>\n",
       "      <td>3680.0</td>\n",
       "    </tr>\n",
       "    <tr>\n",
       "      <th>3</th>\n",
       "      <td>10000</td>\n",
       "      <td>1986-03-31</td>\n",
       "      <td>10.0</td>\n",
       "      <td>3.0</td>\n",
       "      <td>&lt;NA&gt;</td>\n",
       "      <td>0.365385</td>\n",
       "      <td>3680.0</td>\n",
       "    </tr>\n",
       "    <tr>\n",
       "      <th>4</th>\n",
       "      <td>10000</td>\n",
       "      <td>1986-04-30</td>\n",
       "      <td>10.0</td>\n",
       "      <td>3.0</td>\n",
       "      <td>&lt;NA&gt;</td>\n",
       "      <td>-0.098592</td>\n",
       "      <td>3793.0</td>\n",
       "    </tr>\n",
       "    <tr>\n",
       "      <th>5</th>\n",
       "      <td>10000</td>\n",
       "      <td>1986-05-30</td>\n",
       "      <td>10.0</td>\n",
       "      <td>3.0</td>\n",
       "      <td>&lt;NA&gt;</td>\n",
       "      <td>-0.222656</td>\n",
       "      <td>3793.0</td>\n",
       "    </tr>\n",
       "    <tr>\n",
       "      <th>...</th>\n",
       "      <td>...</td>\n",
       "      <td>...</td>\n",
       "      <td>...</td>\n",
       "      <td>...</td>\n",
       "      <td>...</td>\n",
       "      <td>...</td>\n",
       "      <td>...</td>\n",
       "    </tr>\n",
       "    <tr>\n",
       "      <th>4705164</th>\n",
       "      <td>93436</td>\n",
       "      <td>2020-08-31</td>\n",
       "      <td>11.0</td>\n",
       "      <td>3.0</td>\n",
       "      <td>498.32001</td>\n",
       "      <td>0.741452</td>\n",
       "      <td>931809.0</td>\n",
       "    </tr>\n",
       "    <tr>\n",
       "      <th>4705165</th>\n",
       "      <td>93436</td>\n",
       "      <td>2020-09-30</td>\n",
       "      <td>11.0</td>\n",
       "      <td>3.0</td>\n",
       "      <td>429.01001</td>\n",
       "      <td>-0.139087</td>\n",
       "      <td>948000.0</td>\n",
       "    </tr>\n",
       "    <tr>\n",
       "      <th>4705166</th>\n",
       "      <td>93436</td>\n",
       "      <td>2020-10-30</td>\n",
       "      <td>11.0</td>\n",
       "      <td>3.0</td>\n",
       "      <td>388.04001</td>\n",
       "      <td>-0.095499</td>\n",
       "      <td>947901.0</td>\n",
       "    </tr>\n",
       "    <tr>\n",
       "      <th>4705167</th>\n",
       "      <td>93436</td>\n",
       "      <td>2020-11-30</td>\n",
       "      <td>11.0</td>\n",
       "      <td>3.0</td>\n",
       "      <td>567.59998</td>\n",
       "      <td>0.462736</td>\n",
       "      <td>947901.0</td>\n",
       "    </tr>\n",
       "    <tr>\n",
       "      <th>4705168</th>\n",
       "      <td>93436</td>\n",
       "      <td>2020-12-31</td>\n",
       "      <td>11.0</td>\n",
       "      <td>3.0</td>\n",
       "      <td>705.66998</td>\n",
       "      <td>0.243252</td>\n",
       "      <td>959854.0</td>\n",
       "    </tr>\n",
       "  </tbody>\n",
       "</table>\n",
       "<p>3630644 rows × 7 columns</p>\n",
       "</div>"
      ],
      "text/plain": [
       "         PERMNO        date  SHRCD  EXCHCD        PRC        RET    SHROUT\n",
       "1         10000  1986-01-31   10.0     3.0       <NA>          C    3680.0\n",
       "2         10000  1986-02-28   10.0     3.0       <NA>  -0.257143    3680.0\n",
       "3         10000  1986-03-31   10.0     3.0       <NA>   0.365385    3680.0\n",
       "4         10000  1986-04-30   10.0     3.0       <NA>  -0.098592    3793.0\n",
       "5         10000  1986-05-30   10.0     3.0       <NA>  -0.222656    3793.0\n",
       "...         ...         ...    ...     ...        ...        ...       ...\n",
       "4705164   93436  2020-08-31   11.0     3.0  498.32001   0.741452  931809.0\n",
       "4705165   93436  2020-09-30   11.0     3.0  429.01001  -0.139087  948000.0\n",
       "4705166   93436  2020-10-30   11.0     3.0  388.04001  -0.095499  947901.0\n",
       "4705167   93436  2020-11-30   11.0     3.0  567.59998   0.462736  947901.0\n",
       "4705168   93436  2020-12-31   11.0     3.0  705.66998   0.243252  959854.0\n",
       "\n",
       "[3630644 rows x 7 columns]"
      ]
     },
     "execution_count": 3,
     "metadata": {},
     "output_type": "execute_result"
    }
   ],
   "source": [
    "crsp"
   ]
  },
  {
   "cell_type": "code",
   "execution_count": 4,
   "metadata": {},
   "outputs": [
    {
     "data": {
      "image/png": "[encoded data removed]",
      "text/plain": [
       "<Figure size 864x432 with 1 Axes>"
      ]
     },
     "metadata": {
      "needs_background": "light"
     },
     "output_type": "display_data"
    }
   ],
   "source": [
    "# Group by month and count unique permno\n",
    "monthly_counts = crsp.groupby(pd.to_datetime(crsp['date']).dt.to_period('M'))['PERMNO'].nunique()\n",
    "\n",
    "# Plot monthly counts over time\n",
    "fig, ax = plt.subplots(figsize=(12, 6))\n",
    "ax.plot(monthly_counts.index.to_timestamp(), monthly_counts.values)\n",
    "ax.set_xlabel('Year')\n",
    "ax.set_ylabel('Number of Listed Firms')\n",
    "ax.set_title('Number of Listed Firms per Month (1926-2020)')\n",
    "plt.show()"
   ]
  },
  {
   "cell_type": "code",
   "execution_count": 5,
   "metadata": {},
   "outputs": [],
   "source": [
    "crsp.to_csv(\"data/cleaned_crsp.csv\")"
   ]
  },
  {
   "cell_type": "code",
   "execution_count": null,
   "metadata": {},
   "outputs": [],
   "source": []
  }
 ],
 "metadata": {
  "kernelspec": {
   "display_name": "bem114",
   "language": "python",
   "name": "python3"
  },
  "language_info": {
   "codemirror_mode": {
    "name": "ipython",
    "version": 3
   },
   "file_extension": ".py",
   "mimetype": "text/x-python",
   "name": "python",
   "nbconvert_exporter": "python",
   "pygments_lexer": "ipython3",
   "version": "3.9.12"
  },
  "orig_nbformat": 4
 },
 "nbformat": 4,
 "nbformat_minor": 2
}
