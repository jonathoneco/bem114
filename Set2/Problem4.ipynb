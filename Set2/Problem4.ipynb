{
 "cells": [
  {
   "attachments": {},
   "cell_type": "markdown",
   "metadata": {},
   "source": [
    "# Problem 4"
   ]
  },
  {
   "cell_type": "code",
   "execution_count": 1,
   "metadata": {},
   "outputs": [],
   "source": [
    "import pandas as pd\n",
    "import numpy as np\n",
    "import pandas_datareader.data as pdr\n",
    "import datetime\n",
    "import statsmodels.api as sm\n",
    "from tqdm import tqdm\n",
    "from tqdm.contrib.concurrent import process_map\n",
    "from tqdm.contrib import tmap\n",
    "\n",
    "tqdm.pandas()\n"
   ]
  },
  {
   "cell_type": "code",
   "execution_count": 2,
   "metadata": {},
   "outputs": [],
   "source": [
    "crsp_data = pd.read_csv(\"data/cleaned_crsp.csv\")\n",
    "crsp_data['date'] = pd.to_datetime(crsp_data['date'])\n",
    "crsp_data['RET'] = crsp_data['RET'].str.replace('C', '')\n",
    "crsp_data['RET'] = pd.to_numeric(crsp_data['RET'], errors='coerce')"
   ]
  },
  {
   "cell_type": "code",
   "execution_count": 3,
   "metadata": {},
   "outputs": [],
   "source": [
    "# Calculate market value of equity (ME) for each stock\n",
    "crsp_data['mkt_cap'] = np.abs(crsp_data['PRC']) * crsp_data['SHROUT']"
   ]
  },
  {
   "cell_type": "code",
   "execution_count": 4,
   "metadata": {},
   "outputs": [],
   "source": [
    "def assign_deciles(data):\n",
    "    # Check if there are any non-NaN values in the 'cum_ret' column\n",
    "    if pd.notna(data['rolling_beta']).any():\n",
    "        data['decile'] = pd.qcut(data['rolling_beta'], 10, labels=False) + 1\n",
    "    else:\n",
    "        # Set decile to NaN if there are no valid values in 'cum_ret'\n",
    "        data['decile'] = np.nan\n",
    "    return data\n",
    "\n",
    "# get equal- and value-weighted portfolios\n",
    "def calculate_portfolio_returns(data):\n",
    "    ew_ret = data['RET'].mean()\n",
    "    vw_ret = np.average(data['RET'], weights=data['rolling_beta'] + 1e-6)\n",
    "    return pd.Series({'ew_ret': ew_ret, 'vw_ret': vw_ret})\n"
   ]
  },
  {
   "attachments": {},
   "cell_type": "markdown",
   "metadata": {},
   "source": [
    "## (A)"
   ]
  },
  {
   "cell_type": "code",
   "execution_count": 5,
   "metadata": {},
   "outputs": [
    {
     "name": "stderr",
     "output_type": "stream",
     "text": [
      "100%|██████████| 24861/24861 [06:41<00:00, 61.89it/s] \n",
      "100%|██████████| 482/482 [00:01<00:00, 480.36it/s] \n"
     ]
    }
   ],
   "source": [
    "import pandas_datareader as pdr\n",
    "\n",
    "def estimate_beta(stock_returns, market_returns):\n",
    "    if len(stock_returns) == 0 or len(market_returns) == 0:\n",
    "        return np.nan\n",
    "    else:\n",
    "        return np.cov(stock_returns, market_returns)[0, 1] / np.var(market_returns)\n",
    "\n",
    "def calculate_rolling_beta(group):\n",
    "    rolling_beta = group['excess_ret'].rolling(window=36).apply(\n",
    "        lambda x: estimate_beta(x, ff5_factors.loc[ff5_factors['date'].isin(group.loc[x.index, 'date']), 'Mkt-RF']),\n",
    "        raw=False\n",
    "    )\n",
    "    return rolling_beta\n",
    "\n",
    "\n",
    "start_date = '1926-01-01'\n",
    "end_date = '2020-12-31'\n",
    "\n",
    "# Download Fama-French 3-factor data\n",
    "ff3_factors = pdr.get_data_famafrench('F-F_Research_Data_Factors', start=start_date, end=end_date)[0]\n",
    "ff3_factors = ff3_factors / 100  # Convert to decimal\n",
    "ff3_factors.index = ff3_factors.index.to_timestamp('M')  # Convert index to monthly-end dates\n",
    "\n",
    "# FF5 - FIX DATA SOURCE\n",
    "ff5_factors = pdr.get_data_famafrench('F-F_Research_Data_5_Factors_2x3', start=start_date, end=end_date)[0]\n",
    "ff5_factors = ff5_factors / 100  # Convert to decimal\n",
    "ff5_factors.index = ff5_factors.index.to_timestamp('M')  # Convert index to monthly-end dates\n",
    "\n",
    "ff5_factors['date'] = ff5_factors.index\n",
    "\n",
    "# Calculate market value of equity (ME) for each stock\n",
    "crsp_data['mkt_cap'] = np.abs(crsp_data['PRC']) * crsp_data['SHROUT']\n",
    "\n",
    "# Calculate excess returns\n",
    "crsp_data = crsp_data.merge(ff5_factors[['date', 'RF']], on='date')\n",
    "crsp_data['excess_ret'] = crsp_data['RET'] - crsp_data['RF']\n",
    "\n",
    "# Calculate rolling betas for each stock\n",
    "crsp_data['rolling_beta'] = crsp_data.groupby('PERMNO').progress_apply(calculate_rolling_beta).reset_index(level=0, drop=True)\n",
    "\n",
    "# Assign deciles based on rolling betas\n",
    "crsp_data = crsp_data.groupby('date').progress_apply(assign_deciles).reset_index(drop=True)\n",
    "\n",
    "# Calculate equal- and value-weighted portfolio returns for each decile\n",
    "portfolio_returns = crsp_data.groupby(['date', 'decile']).apply(calculate_portfolio_returns).reset_index()\n",
    "\n",
    "# Pivot the data to get a wide format with deciles as columns\n",
    "ew_returns = portfolio_returns.pivot_table(values='ew_ret', index='date', columns='decile')\n",
    "vw_returns = portfolio_returns.pivot_table(values='vw_ret', index='date', columns='decile')"
   ]
  },
  {
   "attachments": {},
   "cell_type": "markdown",
   "metadata": {},
   "source": [
    "## (B)"
   ]
  },
  {
   "cell_type": "code",
   "execution_count": 6,
   "metadata": {},
   "outputs": [
    {
     "name": "stdout",
     "output_type": "stream",
     "text": [
      "Mean equal-weighted returns:\n",
      "decile\n",
      "1.0     0.013770\n",
      "2.0     0.010966\n",
      "3.0     0.011456\n",
      "4.0     0.011264\n",
      "5.0     0.011357\n",
      "6.0     0.011658\n",
      "7.0     0.012165\n",
      "8.0     0.013267\n",
      "9.0     0.014245\n",
      "10.0    0.024120\n",
      "dtype: float64\n",
      "Is monotonic: False\n",
      "\n",
      "Mean value-weighted returns:\n",
      "decile\n",
      "1.0     0.060841\n",
      "2.0     0.011074\n",
      "3.0     0.011406\n",
      "4.0     0.011181\n",
      "5.0     0.012375\n",
      "6.0     0.011747\n",
      "7.0     0.012140\n",
      "8.0     0.013080\n",
      "9.0     0.014326\n",
      "10.0    0.028537\n",
      "dtype: float64\n",
      "Is monotonic: False\n"
     ]
    }
   ],
   "source": [
    "# Calculate equal- and value-weighted portfolio returns\n",
    "portfolio_returns = crsp_data.groupby(['date', 'decile']).apply(calculate_portfolio_returns).reset_index()\n",
    "\n",
    "# Pivot the data to get a wide format with deciles as columns\n",
    "ew_returns = portfolio_returns.pivot_table(values='ew_ret', index='date', columns='decile')\n",
    "vw_returns = portfolio_returns.pivot_table(values='vw_ret', index='date', columns='decile')\n",
    "\n",
    "# Calculate mean returns for each decile\n",
    "mean_ew_returns = ew_returns.mean()\n",
    "mean_vw_returns = vw_returns.mean()\n",
    "\n",
    "# Check if the returns are monotonic\n",
    "is_monotonic_ew = mean_ew_returns.is_monotonic_decreasing\n",
    "is_monotonic_vw = mean_vw_returns.is_monotonic_decreasing\n",
    "\n",
    "print(\"Mean equal-weighted returns:\")\n",
    "print(mean_ew_returns)\n",
    "print(\"Is monotonic:\", is_monotonic_ew)\n",
    "print(\"\\nMean value-weighted returns:\")\n",
    "print(mean_vw_returns)\n",
    "print(\"Is monotonic:\", is_monotonic_vw)"
   ]
  },
  {
   "attachments": {},
   "cell_type": "markdown",
   "metadata": {},
   "source": [
    "## (C)"
   ]
  },
  {
   "cell_type": "code",
   "execution_count": 10,
   "metadata": {},
   "outputs": [
    {
     "name": "stdout",
     "output_type": "stream",
     "text": [
      "Equal-weighted BAB portfolio:\n",
      "Mean: -0.010350\n",
      "Volatility: 0.136471\n",
      "Sharpe Ratio: -0.075839\n",
      "Value-weighted BAB portfolio:\n",
      "Mean: 0.032304\n",
      "Volatility: 4.807499\n",
      "Sharpe Ratio: 0.006719\n"
     ]
    }
   ],
   "source": [
    "ew_bab = ew_returns[1] - ew_returns[10]\n",
    "vw_bab = vw_returns[1] - vw_returns[10]\n",
    "\n",
    "# Calculate mean returns\n",
    "mean_ew_bab = ew_bab.mean()\n",
    "mean_vw_bab = vw_bab.mean()\n",
    "\n",
    "# Calculate volatility\n",
    "vol_ew_bab = ew_bab.std()\n",
    "vol_vw_bab = vw_bab.std()\n",
    "\n",
    "# Calculate Sharpe ratio (assuming a risk-free rate of 0)\n",
    "sharpe_ew_bab = mean_ew_bab / vol_ew_bab\n",
    "sharpe_vw_bab = mean_vw_bab / vol_vw_bab\n",
    "\n",
    "print(\"Equal-weighted BAB portfolio:\")\n",
    "print(f\"Mean: {mean_ew_bab:.6f}\")\n",
    "print(f\"Volatility: {vol_ew_bab:.6f}\")\n",
    "print(f\"Sharpe Ratio: {sharpe_ew_bab:.6f}\")\n",
    "\n",
    "print(\"Value-weighted BAB portfolio:\")\n",
    "print(f\"Mean: {mean_vw_bab:.6f}\")\n",
    "print(f\"Volatility: {vol_vw_bab:.6f}\")\n",
    "print(f\"Sharpe Ratio: {sharpe_vw_bab:.6f}\")\n"
   ]
  },
  {
   "attachments": {},
   "cell_type": "markdown",
   "metadata": {},
   "source": [
    "## (D)"
   ]
  },
  {
   "cell_type": "code",
   "execution_count": 11,
   "metadata": {},
   "outputs": [
    {
     "name": "stdout",
     "output_type": "stream",
     "text": [
      "Equal-weighted BAB portfolio:\n",
      "CAPM: const     0.004061\n",
      "Mkt-RF   -2.477044\n",
      "dtype: float64\n",
      "FF3: const     0.003785\n",
      "Mkt-RF   -2.281825\n",
      "SMB      -0.625355\n",
      "HML       0.362698\n",
      "dtype: float64\n",
      "FF5: const    -0.000166\n",
      "Mkt-RF   -2.120048\n",
      "SMB      -0.407309\n",
      "HML      -0.176170\n",
      "RMW       0.968409\n",
      "CMA       1.005079\n",
      "dtype: float64\n",
      "FF5+Momentum: const    -2.864462e-16\n",
      "Mkt-RF   -1.387779e-16\n",
      "SMB       5.551115e-17\n",
      "HML       1.110223e-16\n",
      "RMW       2.775558e-17\n",
      "CMA       1.387779e-15\n",
      "Mom      -1.000000e+00\n",
      "dtype: float64\n",
      "\n",
      "Value-weighted BAB portfolio:\n",
      "CAPM: const      0.120236\n",
      "Mkt-RF   -15.114590\n",
      "dtype: float64\n",
      "FF3: const      0.164531\n",
      "Mkt-RF   -16.590780\n",
      "SMB       -1.006878\n",
      "HML      -12.741982\n",
      "dtype: float64\n",
      "FF5: const      0.111092\n",
      "Mkt-RF   -13.813737\n",
      "SMB        1.405013\n",
      "HML      -22.390868\n",
      "RMW       10.782304\n",
      "CMA       19.809657\n",
      "dtype: float64\n",
      "FF5+Momentum: const      0.111915\n",
      "Mkt-RF    -3.288307\n",
      "SMB        3.427185\n",
      "HML      -21.516234\n",
      "RMW        5.974432\n",
      "CMA       14.819731\n",
      "Mom       -4.964712\n",
      "dtype: float64\n"
     ]
    }
   ],
   "source": [
    "# Function to calculate factor models\n",
    "def calculate_factor_model(data, factors):\n",
    "    aligned_data, aligned_factors = data.align(factors, join='inner')\n",
    "    X = sm.add_constant(aligned_factors)\n",
    "    model = sm.OLS(aligned_data, X).fit()\n",
    "    return model.params\n",
    "\n",
    "# Calculate the momentum factor\n",
    "momentum_deciles = crsp_data.groupby(['date', 'decile']).apply(calculate_portfolio_returns).reset_index()\n",
    "momentum_returns = momentum_deciles.pivot_table(values='ew_ret', index='date', columns='decile')\n",
    "momentum_factor = momentum_returns[10] - momentum_returns[1]\n",
    "\n",
    "# Merge the momentum factor with the FF5 factors\n",
    "ff5_factors_plus_mom = ff5_factors.merge(pd.DataFrame(momentum_factor, columns=['Mom']), left_index=True, right_index=True)\n",
    "\n",
    "# Estimate the CAPM model for both equal- and value-weighted portfolios\n",
    "capm_ew = calculate_factor_model(ew_bab, ff5_factors[['Mkt-RF']])\n",
    "capm_vw = calculate_factor_model(vw_bab, ff5_factors[['Mkt-RF']])\n",
    "\n",
    "# Estimate the FF3 model for both equal- and value-weighted portfolios\n",
    "ff3_ew = calculate_factor_model(ew_bab, ff5_factors[['Mkt-RF', 'SMB', 'HML']])\n",
    "ff3_vw = calculate_factor_model(vw_bab, ff5_factors[['Mkt-RF', 'SMB', 'HML']])\n",
    "\n",
    "# Estimate the FF5 model for both equal- and value-weighted portfolios\n",
    "ff5_ew = calculate_factor_model(ew_bab, ff5_factors[['Mkt-RF', 'SMB', 'HML', 'RMW', 'CMA']])\n",
    "ff5_vw = calculate_factor_model(vw_bab, ff5_factors[['Mkt-RF', 'SMB', 'HML', 'RMW', 'CMA']])\n",
    "\n",
    "# Estimate the FF5+Momentum models for both equal- and value-weighted portfolios\n",
    "ff5_mom_ew = calculate_factor_model(ew_bab, ff5_factors_plus_mom[['Mkt-RF', 'SMB', 'HML', 'RMW', 'CMA', 'Mom']])\n",
    "ff5_mom_vw = calculate_factor_model(vw_bab, ff5_factors_plus_mom[['Mkt-RF', 'SMB', 'HML', 'RMW', 'CMA', 'Mom']])\n",
    "\n",
    "print(\"Equal-weighted BAB portfolio:\")\n",
    "print(\"CAPM:\", capm_ew)\n",
    "print(\"FF3:\", ff3_ew)\n",
    "print(\"FF5:\", ff5_ew)\n",
    "print(\"FF5+Momentum:\", ff5_mom_ew)\n",
    "\n",
    "print(\"\\nValue-weighted BAB portfolio:\")\n",
    "print(\"CAPM:\", capm_vw)\n",
    "print(\"FF3:\", ff3_vw)\n",
    "print(\"FF5:\", ff5_vw)\n",
    "print(\"FF5+Momentum:\", ff5_mom_vw)\n"
   ]
  },
  {
   "attachments": {},
   "cell_type": "markdown",
   "metadata": {},
   "source": [
    "## (E)\n",
    "To reduce the volatility of the BAB strategy, you can consider the following approaches:\n",
    "\n",
    "Diversification: Increase the number of stocks in the long and short portfolios to diversify the idiosyncratic risk of individual stocks. This should result in a lower overall portfolio volatility.\n",
    "Time-varying risk: Consider incorporating a dynamic risk management strategy that adjusts portfolio exposure based on the prevailing market volatility. For example, you can reduce the portfolio's exposure during periods of high market volatility and increase"
   ]
  }
 ],
 "metadata": {
  "kernelspec": {
   "display_name": "Python 3",
   "language": "python",
   "name": "python3"
  },
  "language_info": {
   "codemirror_mode": {
    "name": "ipython",
    "version": 3
   },
   "file_extension": ".py",
   "mimetype": "text/x-python",
   "name": "python",
   "nbconvert_exporter": "python",
   "pygments_lexer": "ipython3",
   "version": "3.8.3"
  },
  "orig_nbformat": 4
 },
 "nbformat": 4,
 "nbformat_minor": 2
}
