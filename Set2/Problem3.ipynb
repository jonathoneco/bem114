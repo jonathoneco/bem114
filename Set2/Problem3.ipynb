{
 "cells": [
  {
   "cell_type": "code",
   "execution_count": 1,
   "metadata": {},
   "outputs": [
    {
     "name": "stderr",
     "output_type": "stream",
     "text": [
      "/Users/esmirmesic/opt/anaconda3/envs/bem114/lib/python3.11/site-packages/tqdm/auto.py:21: TqdmWarning: IProgress not found. Please update jupyter and ipywidgets. See https://ipywidgets.readthedocs.io/en/stable/user_install.html\n",
      "  from .autonotebook import tqdm as notebook_tqdm\n"
     ]
    }
   ],
   "source": [
    "import pandas as pd\n",
    "import numpy as np\n",
    "import statsmodels.api as sm\n",
    "from datetime import datetime\n",
    "from tqdm import tqdm\n",
    "from tqdm.contrib.concurrent import process_map\n",
    "from tqdm.contrib import tmap\n",
    "\n",
    "# Enable tqdm for Pandas\n",
    "tqdm.pandas()"
   ]
  },
  {
   "cell_type": "code",
   "execution_count": 2,
   "metadata": {},
   "outputs": [],
   "source": [
    "crsp_data = pd.read_csv(\"data/cleaned_crsp.csv\")\n",
    "crsp_data['date'] = pd.to_datetime(crsp_data['date'])\n",
    "crsp_data['RET'] = crsp_data['RET'].str.replace('C', '')\n",
    "crsp_data['RET'] = pd.to_numeric(crsp_data['RET'], errors='coerce')\n",
    "crsp_data['date'] = pd.to_datetime(crsp_data['date'], format='%Y-%m-%d')"
   ]
  },
  {
   "attachments": {},
   "cell_type": "markdown",
   "metadata": {},
   "source": [
    "# A"
   ]
  },
  {
   "cell_type": "code",
   "execution_count": 3,
   "metadata": {},
   "outputs": [
    {
     "name": "stderr",
     "output_type": "stream",
     "text": [
      "3279165it [00:18, 173208.88it/s]\n",
      "100%|██████████| 1141/1141 [00:02<00:00, 492.09it/s] \n"
     ]
    }
   ],
   "source": [
    "# Calculate market value of equity (ME) for each stock\n",
    "# crsp_data['mkt_cap'] = np.abs(crsp_data['PRC']) * crsp_data['SHROUT']\n",
    "\n",
    "start_date = '1926-01-01'\n",
    "end_date = '2020-12-31'\n",
    "\n",
    "\n",
    "crsp_data['cum_ret'] = crsp_data.groupby('PERMNO')['RET'].rolling(window=11).progress_apply(lambda x: np.prod(1 + x) - 1, raw=True).reset_index(0, drop=True)\n",
    "\n",
    "\n",
    "\n",
    "# # Define a function to assign deciles based on market cap\n",
    "def assign_deciles(data):\n",
    "    # Check if there are any non-NaN values in the 'cum_ret' column\n",
    "    if pd.notna(data['cum_ret']).any():\n",
    "        data['decile'] = pd.qcut(data['cum_ret'], 10, labels=False) + 1\n",
    "    else:\n",
    "        # Set decile to NaN if there are no valid values in 'cum_ret'\n",
    "        data['decile'] = np.nan\n",
    "    return data\n",
    "\n",
    "crsp_data = crsp_data.groupby('date').progress_apply(assign_deciles).reset_index(drop=True)\n",
    "\n",
    "# get equal- and value-weighted portfolios\n",
    "def calculate_portfolio_returns(data):\n",
    "    ew_ret = data['RET'].mean()\n",
    "    vw_ret = np.average(data['RET'], weights=data['cum_ret'])\n",
    "    return pd.Series({'ew_ret': ew_ret, 'vw_ret': vw_ret})\n",
    "\n",
    "# Group the data by date and decile and calculate the returns for each group\n",
    "portfolio_returns = crsp_data.groupby(['date', 'decile']).apply(calculate_portfolio_returns).reset_index()\n",
    "\n",
    "# Pivot the data to get a wide format with deciles as columns\n",
    "ew_returns = portfolio_returns.pivot_table(values='ew_ret', index='date', columns='decile')\n",
    "vw_returns = portfolio_returns.pivot_table(values='vw_ret', index='date', columns='decile')\n"
   ]
  },
  {
   "attachments": {},
   "cell_type": "markdown",
   "metadata": {},
   "source": [
    "# B"
   ]
  },
  {
   "cell_type": "code",
   "execution_count": 4,
   "metadata": {},
   "outputs": [
    {
     "name": "stdout",
     "output_type": "stream",
     "text": [
      "Mean equal-weighted returns:\n",
      "decile\n",
      "1.0    -0.053691\n",
      "2.0    -0.018407\n",
      "3.0    -0.006398\n",
      "4.0     0.001725\n",
      "5.0     0.008325\n",
      "6.0     0.015597\n",
      "7.0     0.022531\n",
      "8.0     0.031198\n",
      "9.0     0.045244\n",
      "10.0    0.085250\n",
      "dtype: float64\n",
      "Is monotonic: False\n",
      "\n",
      "Mean value-weighted returns:\n",
      "decile\n",
      "1.0    -0.064252\n",
      "2.0    -0.019621\n",
      "3.0    -0.008597\n",
      "4.0     0.002204\n",
      "5.0     0.008493\n",
      "6.0     0.017407\n",
      "7.0     0.023234\n",
      "8.0     0.030565\n",
      "9.0     0.046216\n",
      "10.0    0.105113\n",
      "dtype: float64\n",
      "Is monotonic: False\n"
     ]
    }
   ],
   "source": [
    "# Calculate mean returns for each decile\n",
    "mean_ew_returns = ew_returns.mean()\n",
    "mean_vw_returns = vw_returns.mean()\n",
    "\n",
    "# Check if the returns are monotonic\n",
    "is_monotonic_ew = mean_ew_returns.is_monotonic_decreasing\n",
    "is_monotonic_vw = mean_vw_returns.is_monotonic_decreasing\n",
    "\n",
    "print(\"Mean equal-weighted returns:\")\n",
    "print(mean_ew_returns)\n",
    "print(\"Is monotonic:\", is_monotonic_ew)\n",
    "print(\"\\nMean value-weighted returns:\")\n",
    "print(mean_vw_returns)\n",
    "print(\"Is monotonic:\", is_monotonic_vw)"
   ]
  },
  {
   "attachments": {},
   "cell_type": "markdown",
   "metadata": {},
   "source": [
    "# C"
   ]
  },
  {
   "cell_type": "code",
   "execution_count": 5,
   "metadata": {},
   "outputs": [
    {
     "name": "stdout",
     "output_type": "stream",
     "text": [
      "Equal-Weighted WML Portfolio Returns:\n",
      "decile          1.0       2.0       3.0       4.0       5.0       6.0    \n",
      "date                                                                     \n",
      "1926-11-30 -0.042136  0.005114 -0.009188  0.025732  0.017115  0.033036  \\\n",
      "1926-12-31 -0.002997  0.003170  0.016758  0.020720  0.027043  0.048024   \n",
      "1927-01-31 -0.054276 -0.039402  0.008722  0.030068  0.007751 -0.005085   \n",
      "1927-02-28  0.021823  0.022411  0.035212  0.055817  0.041982  0.051045   \n",
      "1927-03-31 -0.156663 -0.041989 -0.040131 -0.039031 -0.026726 -0.007436   \n",
      "...              ...       ...       ...       ...       ...       ...   \n",
      "2020-08-31 -0.028791  0.018453  0.027528  0.033558  0.046831  0.056140   \n",
      "2020-09-30 -0.136618 -0.064249 -0.055185 -0.047335 -0.027944 -0.019465   \n",
      "2020-10-30 -0.084762  0.002844  0.029962  0.024394  0.005931  0.017045   \n",
      "2020-11-30  0.275224  0.234795  0.165377  0.177001  0.150601  0.126346   \n",
      "2020-12-31  0.035540  0.051914  0.048137  0.058761  0.073260  0.078719   \n",
      "\n",
      "decile          7.0       8.0       9.0       10.0  \n",
      "date                                                \n",
      "1926-11-30  0.024237  0.059915  0.063451  0.089871  \n",
      "1926-12-31  0.028398  0.025735  0.033012  0.056693  \n",
      "1927-01-31  0.001483  0.025250  0.053090  0.104957  \n",
      "1927-02-28  0.051243  0.066560  0.088671  0.145928  \n",
      "1927-03-31  0.012752  0.015762  0.024614  0.082924  \n",
      "...              ...       ...       ...       ...  \n",
      "2020-08-31  0.066179  0.058601  0.080436  0.112239  \n",
      "2020-09-30 -0.015903 -0.007329  0.017154  0.092528  \n",
      "2020-10-30  0.008791  0.026992  0.044663  0.044760  \n",
      "2020-11-30  0.153868  0.174741  0.194155  0.407753  \n",
      "2020-12-31  0.076671  0.097152  0.144409  0.267880  \n",
      "\n",
      "[1130 rows x 10 columns]\n",
      "\n",
      "Value-Weighted WML Portfolio Returns:\n",
      "decile          1.0       2.0       3.0       4.0       5.0       6.0    \n",
      "date                                                                     \n",
      "1926-11-30 -0.047352  0.004998 -0.010349  0.028130  0.014234  0.035474  \\\n",
      "1926-12-31 -0.007831  0.003726  0.015093  0.020937  0.032208  0.022845   \n",
      "1927-01-31 -0.062235 -0.043152  0.010284  0.040709 -0.015947 -0.005598   \n",
      "1927-02-28  0.018180  0.011788  0.001475  0.056511  0.042634  0.051067   \n",
      "1927-03-31 -0.175633 -0.044984 -0.042529 -0.025489 -0.025075 -0.006684   \n",
      "...              ...       ...       ...       ...       ...       ...   \n",
      "2020-08-31 -0.042148  0.016506  0.027681  0.033121  0.046237  0.100749   \n",
      "2020-09-30 -0.143310 -0.063968 -0.056027 -0.049029 -0.031444 -0.031698   \n",
      "2020-10-30 -0.093789  0.000509  0.029508  0.024132  0.005862  0.013224   \n",
      "2020-11-30  0.279717  0.236362  0.166228  0.180236  0.153877  0.120735   \n",
      "2020-12-31  0.029954  0.054628  0.047325  0.056888  0.077520  0.078772   \n",
      "\n",
      "decile          7.0       8.0       9.0       10.0  \n",
      "date                                                \n",
      "1926-11-30  0.026027  0.063484  0.060720  0.092394  \n",
      "1926-12-31  0.026153  0.024980  0.034167  0.053468  \n",
      "1927-01-31  0.000528  0.026415  0.055906  0.138347  \n",
      "1927-02-28  0.051648  0.066411  0.088234  0.144009  \n",
      "1927-03-31  0.014451  0.015675  0.025575  0.102088  \n",
      "...              ...       ...       ...       ...  \n",
      "2020-08-31  0.069016  0.057873  0.084661  0.142364  \n",
      "2020-09-30 -0.015382 -0.008425  0.016401  0.136236  \n",
      "2020-10-30  0.012274  0.027685  0.046815  0.030145  \n",
      "2020-11-30  0.152788  0.175511  0.202967  0.539364  \n",
      "2020-12-31  0.076759  0.098797  0.152792  0.300522  \n",
      "\n",
      "[1130 rows x 10 columns]\n"
     ]
    }
   ],
   "source": [
    "def form_wml_portfolios(group):\n",
    "    winners = group[group['decile'] == 10.0]\n",
    "    losers = group[group['decile'] == 1.0]\n",
    "    \n",
    "    # Calculate equal-weighted average returns for winners and losers\n",
    "    winners_ret_ew = winners['RET'].mean()\n",
    "    losers_ret_ew = losers['RET'].mean()\n",
    "\n",
    "    vw_winners_ret = np.average(winners['RET'], weights=winners['cum_ret']) if winners['cum_ret'].sum() != 0 else np.nan\n",
    "    vw_losers_ret = np.average(losers['RET'], weights=losers['cum_ret']) if losers['cum_ret'].sum() != 0 else np.nan\n",
    "    \n",
    "    \n",
    "    # Calculate winners-minus-losers return\n",
    "    wml_ret_ew = winners_ret_ew - losers_ret_ew\n",
    "    wml_ret_vw = vw_winners_ret - vw_losers_ret\n",
    "\n",
    "    return pd.Series({\n",
    "        'ew_wml_ret': wml_ret_ew,\n",
    "        'vw_wml_ret': wml_ret_vw\n",
    "    })\n",
    "\n",
    "wml_returns = crsp_data.groupby('date').apply(form_wml_portfolios)\n",
    "\n",
    "# Extract equal-weighted and value-weighted WML returns\n",
    "ew_wml_returns = wml_returns['ew_wml_ret']\n",
    "vw_wml_returns = wml_returns['vw_wml_ret']\n",
    "\n",
    "# Print the results\n",
    "print(\"Equal-Weighted WML Portfolio Returns:\")\n",
    "print(ew_returns)\n",
    "print(\"\\nValue-Weighted WML Portfolio Returns:\")\n",
    "print(vw_returns)"
   ]
  },
  {
   "cell_type": "code",
   "execution_count": 9,
   "metadata": {},
   "outputs": [
    {
     "name": "stdout",
     "output_type": "stream",
     "text": [
      "Equal-weighted SMB portfolio:\n",
      "Mean: 0.138941\n",
      "Volatility: 0.091022\n",
      "Sharpe Ratio: 1.526452\n",
      "\n",
      "Value-weighted SMB portfolio:\n",
      "Mean: 0.169365\n",
      "Volatility: 0.182155\n",
      "Sharpe Ratio: 0.929784\n"
     ]
    }
   ],
   "source": [
    "# Calculate mean returns\n",
    "ew_wml_means = ew_wml_returns.mean()\n",
    "vw_wml_means = vw_wml_returns.mean()\n",
    "\n",
    "# Calculate volatility\n",
    "ew_wml_vol = ew_wml_returns.std()\n",
    "vw_wml_vol = vw_wml_returns.std()\n",
    "\n",
    "# Calculate Sharpe ratio (assuming a risk-free rate of 0)\n",
    "ew_wml_sharpe = ew_wml_means / ew_wml_vol\n",
    "vw_wml_sharpe = vw_wml_means / vw_wml_vol\n",
    "\n",
    "print(\"Equal-weighted SMB portfolio:\")\n",
    "print(f\"Mean: {ew_wml_means:.6f}\")\n",
    "print(f\"Volatility: {ew_wml_vol:.6f}\")\n",
    "print(f\"Sharpe Ratio: {ew_wml_sharpe:.6f}\")\n",
    "\n",
    "print(\"\\nValue-weighted SMB portfolio:\")\n",
    "print(f\"Mean: {vw_wml_means:.6f}\")\n",
    "print(f\"Volatility: {vw_wml_vol:.6f}\")\n",
    "print(f\"Sharpe Ratio: {vw_wml_sharpe:.6f}\")"
   ]
  },
  {
   "attachments": {},
   "cell_type": "markdown",
   "metadata": {},
   "source": [
    "# D"
   ]
  },
  {
   "cell_type": "code",
   "execution_count": 6,
   "metadata": {},
   "outputs": [
    {
     "name": "stderr",
     "output_type": "stream",
     "text": [
      "/var/folders/sg/4dp480wd1cjd288xvby34rpr0000gn/T/ipykernel_11009/2391014569.py:7: FutureWarning: The argument 'date_parser' is deprecated and will be removed in a future version. Please use 'date_format' instead, or read your data in as 'object' dtype and then call 'to_datetime'.\n",
      "  ff3_factors = pdr.get_data_famafrench('F-F_Research_Data_Factors', start=start_date, end=end_date)[0]\n",
      "/var/folders/sg/4dp480wd1cjd288xvby34rpr0000gn/T/ipykernel_11009/2391014569.py:7: FutureWarning: The argument 'date_parser' is deprecated and will be removed in a future version. Please use 'date_format' instead, or read your data in as 'object' dtype and then call 'to_datetime'.\n",
      "  ff3_factors = pdr.get_data_famafrench('F-F_Research_Data_Factors', start=start_date, end=end_date)[0]\n",
      "/var/folders/sg/4dp480wd1cjd288xvby34rpr0000gn/T/ipykernel_11009/2391014569.py:12: FutureWarning: The argument 'date_parser' is deprecated and will be removed in a future version. Please use 'date_format' instead, or read your data in as 'object' dtype and then call 'to_datetime'.\n",
      "  ff5_factors = pdr.get_data_famafrench('F-F_Research_Data_5_Factors_2x3', start=start_date, end=end_date)[0]\n",
      "/var/folders/sg/4dp480wd1cjd288xvby34rpr0000gn/T/ipykernel_11009/2391014569.py:12: FutureWarning: The argument 'date_parser' is deprecated and will be removed in a future version. Please use 'date_format' instead, or read your data in as 'object' dtype and then call 'to_datetime'.\n",
      "  ff5_factors = pdr.get_data_famafrench('F-F_Research_Data_5_Factors_2x3', start=start_date, end=end_date)[0]\n"
     ]
    }
   ],
   "source": [
    "import pandas_datareader as pdr\n",
    "\n",
    "start_date = '1926-01-01'\n",
    "end_date = '2020-12-31'\n",
    "\n",
    "# Download Fama-French 3-factor data\n",
    "ff3_factors = pdr.get_data_famafrench('F-F_Research_Data_Factors', start=start_date, end=end_date)[0]\n",
    "ff3_factors = ff3_factors / 100  # Convert to decimal\n",
    "ff3_factors.index = ff3_factors.index.to_timestamp('M')  # Convert index to monthly-end dates\n",
    "\n",
    "# FF5 - FIX DATA SOURCE\n",
    "ff5_factors = pdr.get_data_famafrench('F-F_Research_Data_5_Factors_2x3', start=start_date, end=end_date)[0]\n",
    "ff5_factors = ff5_factors / 100  # Convert to decimal\n",
    "ff5_factors.index = ff5_factors.index.to_timestamp('M')  # Convert index to monthly-end dates"
   ]
  },
  {
   "cell_type": "code",
   "execution_count": 7,
   "metadata": {},
   "outputs": [],
   "source": [
    "def estimate_models(returns, factors, factors5):\n",
    "    # Add a constant to the factors for regression\n",
    "    factors = sm.add_constant(factors)\n",
    "\n",
    "    # Estimate the CAPM model\n",
    "    capm_model = sm.OLS(returns, factors[['const', 'Mkt-RF']]).fit()\n",
    "\n",
    "    # Estimate the FF3 model\n",
    "    ff3_model = sm.OLS(returns, factors).fit()\n",
    "\n",
    "    # Estimate the FF5 model\n",
    "    ff5_model = sm.OLS(returns, factors5).fit()\n",
    "\n",
    "    return capm_model.params, ff3_model.params, ff5_model.params\n",
    "\n",
    "# Assuming ew_wml_returns and vw_wml_returns are available as the equal-weighted and value-weighted WML portfolio returns\n",
    "# Assuming ff3_factors and ff5_factors are available as the Fama-French 3-factor and 5-factor data\n",
    "\n",
    "# Add a constant column to the returns DataFrames\n",
    "ew_returns = ew_wml_returns.to_frame(name='WML')\n",
    "ew_returns['const'] = 1\n",
    "vw_returns = vw_wml_returns.to_frame(name='WML')\n",
    "vw_returns['const'] = 1\n",
    "\n",
    "# Merge the factor data with the portfolio returns\n",
    "ew_returns = ew_returns.merge(ff3_factors, left_index=True, right_index=True, suffixes=('', '_y'))\n",
    "vw_returns = vw_returns.merge(ff3_factors, left_index=True, right_index=True, suffixes=('', '_y'))\n",
    "\n",
    "# Merge the FF5 data with the portfolio returns\n",
    "ew_returns = ew_returns.merge(ff5_factors, left_index=True, right_index=True, suffixes=('', '_y'))\n",
    "vw_returns = vw_returns.merge(ff5_factors, left_index=True, right_index=True, suffixes=('', '_y'))\n",
    "\n",
    "# Calculate the CAPM, FF3, and FF5 model parameters for both equal-weighted and value-weighted WML portfolios\n",
    "ew_capm_params, ew_ff3_params, ew_ff5_params = estimate_models(ew_returns['WML'], ew_returns[['const', 'Mkt-RF', 'SMB', 'HML']], ew_returns[['const', 'Mkt-RF', 'SMB', 'HML', 'RMW', 'CMA']])\n",
    "vw_capm_params, vw_ff3_params, vw_ff5_params = estimate_models(vw_returns['WML'], vw_returns[['const', 'Mkt-RF', 'SMB', 'HML']], vw_returns[['const', 'Mkt-RF', 'SMB', 'HML', 'RMW', 'CMA']])"
   ]
  },
  {
   "cell_type": "code",
   "execution_count": 8,
   "metadata": {},
   "outputs": [
    {
     "name": "stdout",
     "output_type": "stream",
     "text": [
      "Equal-weighted WML portfolio results:\n",
      "CAPM Alpha: 0.16106381165630318\n",
      "FF3 Alpha: 0.16309969309562972\n",
      "FF5 Alpha: 0.1608084666302788\n",
      "\n",
      "Value-weighted WML portfolio results:\n",
      "CAPM Alpha: 0.19538097569006257\n",
      "FF3 Alpha: 0.19766627399844994\n",
      "FF5 Alpha: 0.1959388821337159\n"
     ]
    }
   ],
   "source": [
    "# Print the estimated alphas\n",
    "print(\"Equal-weighted WML portfolio results:\")\n",
    "print(\"CAPM Alpha:\", ew_capm_params['const'])\n",
    "print(\"FF3 Alpha:\", ew_ff3_params['const'])\n",
    "print(\"FF5 Alpha:\", ew_ff5_params['const'])\n",
    "\n",
    "print(\"\\nValue-weighted WML portfolio results:\")\n",
    "print(\"CAPM Alpha:\", vw_capm_params['const'])\n",
    "print(\"FF3 Alpha:\", vw_ff3_params['const'])\n",
    "print(\"FF5 Alpha:\", vw_ff5_params['const'])"
   ]
  },
  {
   "attachments": {},
   "cell_type": "markdown",
   "metadata": {},
   "source": [
    "# E\n",
    "The alphas are definitely positive, but this is likely due to the market doing well and the manager getting \"paid\" for taking on a bunch of risk. The alpha is coming largely from being exposed to risk, not necessarily from managerial skill. "
   ]
  },
  {
   "attachments": {},
   "cell_type": "markdown",
   "metadata": {},
   "source": []
  }
 ],
 "metadata": {
  "kernelspec": {
   "display_name": "bem114",
   "language": "python",
   "name": "python3"
  },
  "language_info": {
   "codemirror_mode": {
    "name": "ipython",
    "version": 3
   },
   "file_extension": ".py",
   "mimetype": "text/x-python",
   "name": "python",
   "nbconvert_exporter": "python",
   "pygments_lexer": "ipython3",
   "version": "3.11.3"
  },
  "orig_nbformat": 4
 },
 "nbformat": 4,
 "nbformat_minor": 2
}
