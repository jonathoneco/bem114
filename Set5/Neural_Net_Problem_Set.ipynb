{
 "cells": [
  {
   "attachments": {},
   "cell_type": "markdown",
   "metadata": {
    "id": "9e677baf"
   },
   "source": [
    "# Problem Set 5: Neural Nets for Factor Investing\n",
    "\n",
    "California Institute of Technology\n",
    "\n",
    "BEM 114: Hedge Funds\n",
    "\n",
    "Spring 2023\n",
    "\n",
    "\n",
    "Due: May 23rd, 2023\n",
    "\n",
    "Please submit your assignments on Canvas before 11:59 p.m. on the due date. Please upload both the Jupyter (iPython) notebook and a PDF of the notebook.  You do not need to submit the data. \n",
    "\n",
    "\n",
    "\n",
    "## Introduction\n",
    "In this problem set you will fit a simple feed-forward Neural Net in order to demonstrate how a neural net can be used to identify dependencies across factors in order to create a higher alpha. \n",
    "\n",
    "In question 1 we'll explore the comparison of a neural net to a linear model fit, and demonstrate some of the reasoning why a ReLU activation function is a common choice for neural nets in finance. In question 2 we'll analyze whether lag parameters may help further increase the performance of our model. In question 3 we'll investigate the importance of checking and robustness and reproducibility of the results of our fit.\n",
    "\n",
    "I have included some sample output as a sanity check for some questions. As discussed in question 3, the optimization of the neural net uses a stochastic component, and thus, your estimates will be slightly different from when you see here.\n",
    "\n",
    "## Starting Code\n",
    "You'll be asked to update the following starting code in order to update the model being fit. This will include model parameters, as well as updating the input space.\n",
    "\n",
    "The `fitting_returns_data` function is the main function that we'll run in order to pull results.\n",
    "\n",
    "The functions with an `io_` prefix define input and output variables. The functions with a `'model_` prefix define the model fit that we'll be using. \n",
    "\n",
    "This problem set will ask you to create your own `io_` and `model_` functions in order to test different modeling possibilities, and to determine the importance of these decisions in the model fitting process."
   ]
  },
  {
   "cell_type": "code",
   "execution_count": 1,
   "metadata": {
    "id": "18326965"
   },
   "outputs": [
    {
     "name": "stderr",
     "output_type": "stream",
     "text": [
      "2023-05-22 21:21:37.344832: I tensorflow/core/platform/cpu_feature_guard.cc:193] This TensorFlow binary is optimized with oneAPI Deep Neural Network Library (oneDNN) to use the following CPU instructions in performance-critical operations:  SSE4.1 SSE4.2\n",
      "To enable them in other operations, rebuild TensorFlow with the appropriate compiler flags.\n"
     ]
    }
   ],
   "source": [
    "import copy\n",
    "import matplotlib.pyplot as plt\n",
    "import numpy as np\n",
    "import os\n",
    "import pandas as pd\n",
    "import random\n",
    "from sklearn.model_selection import train_test_split\n",
    "import statsmodels.api as sm\n",
    "from tensorflow.keras.models import Sequential\n",
    "from tensorflow.keras.layers import Dense\n",
    "import tensorflow as tf\n",
    "import warnings\n",
    "\n",
    "\n",
    "\n",
    "\n",
    "# We'll suppress some warnings from tensorflow, but feel free to \n",
    "# comment out this line and see some of the efficiency gains we can get!\n",
    "warnings.filterwarnings(\"ignore\")\n",
    "\n",
    "\n",
    "# Note: All io_fns and model_fns start with an 'io_' and 'model_' prefix\n",
    "# respectively\n",
    "\n",
    "\n",
    "\n",
    "def fitting_returns_data(data_path, \n",
    "                         io_fn, \n",
    "                         model_fn, \n",
    "                         seed = None,\n",
    "                         print_summary = True):\n",
    "    \"\"\" \n",
    "    Fits data to supplied model and provides returns and alpha estimates.\n",
    "    \n",
    "        Parameters:\n",
    "            data_path (str): path to factor data with first column as date\n",
    "                6 factors, and the last column as risk free rate\n",
    "            io_fn (fn): a function to calculate input/output pairs for the  \n",
    "                model fit\n",
    "            model_fn (fn): a function that takes in input data, output data, \n",
    "                and training and testing values, and returns the strategy\n",
    "                for each day, and the observed return for each day\n",
    "            seed (int): if given, the seed for the model fit will be set to\n",
    "                this value\n",
    "            print_summary (bool): if True, then the model won't print a summary\n",
    "                of the OLS fit for our strategy return.\n",
    "        Returns:\n",
    "            strat_df (pd.DataFrame): The weights we would give each factor\n",
    "                on each day\n",
    "            return_vector (list): The returns from our strategy on each day\n",
    "            model_OLS (RegressionResultsWrapper): A regression calculating the\n",
    "                alpha for our strategy\n",
    "    \"\"\"\n",
    "    # if given, set the random seed\n",
    "    if seed:\n",
    "        set_seed(seed)\n",
    "        \n",
    "    # Load the data into a pandas DataFrame\n",
    "    data = pd.read_csv(data_path)\n",
    "    # Drop date and risk free rate\n",
    "    data = data.iloc[:, 1:7]\n",
    "    \n",
    "    # Shift the data by one time step to create input/output pairs\n",
    "    X, y = io_fn(data) \n",
    "\n",
    "    # Split the data into training and validation sets\n",
    "    X_train, X_val, y_train, y_val = train_test_split(X, y, test_size=0.2)\n",
    "    \n",
    "    # Fit the model\n",
    "    strat_df, return_vector = model_fn(X, y, X_train, y_train, X_val, y_val)\n",
    "    \n",
    "    # Calculate alpha\n",
    "    y_ols = sm.add_constant(y)\n",
    "    model_OLS = sm.OLS(return_vector, y_ols).fit()\n",
    "    if print_summary:\n",
    "        print(model_OLS.summary())\n",
    "    \n",
    "    return strat_df, return_vector, model_OLS\n",
    "\n",
    "\n",
    "def set_seed(seed):\n",
    "    # Adding a fixed seed from this solution: https://stackoverflow.com/questions/32419510/how-to-get-reproducible-results-in-keras\n",
    "    # 1. Set the `PYTHONHASHSEED` environment variable at a fixed value\n",
    "    os.environ['PYTHONHASHSEED']=str(seed)\n",
    "\n",
    "    # 2. Set the `python` built-in pseudo-random generator at a fixed value\n",
    "    random.seed(seed)\n",
    "\n",
    "    # 3. Set the `numpy` pseudo-random generator at a fixed value\n",
    "    np.random.seed(seed)\n",
    "\n",
    "    # 4. Set the `tensorflow` pseudo-random generator at a fixed value\n",
    "    tf.compat.v1.set_random_seed(seed)\n",
    "    return\n",
    "\n",
    "def io_day_1_lag(data):\n",
    "    # Create input output pairs, where the input is the previous day of data\n",
    "    # and the output is the current day of data.\n",
    "    X = data.shift(1).dropna().reset_index(drop=True)\n",
    "    y = data.dropna().iloc[1:,:].reset_index(drop=True)\n",
    "    return X, y\n",
    "\n",
    "def io_day_1_lag_second_order_input(data):\n",
    "    # Create input output pairs where input data includes second order interactions\n",
    "    X, y = io_day_1_lag(data)\n",
    "    cols = X.columns\n",
    "    \n",
    "    for i in range(len(cols)):\n",
    "        for j in range(i+1, len(cols)):\n",
    "            col_name = cols[i] + cols[j]\n",
    "            col_values = X[cols[i]] * X[cols[j]]\n",
    "            X[col_name] = col_values\n",
    "    return X, y\n",
    "\n",
    "def model_feed_forward(X, y, X_train, y_train, X_val, y_val):\n",
    "    # Define the neural network model\n",
    "    model = Sequential()\n",
    "    model.add(Dense(32, activation='relu', input_shape=(X.shape[1],)))\n",
    "    model.add(Dense(16, activation='relu'))\n",
    "    model.add(Dense(6, activation='linear'))\n",
    "    \n",
    "    # Compile the model\n",
    "    model.compile(loss='mean_squared_error', optimizer='adam')\n",
    "\n",
    "    # Train the model, verbose = 0 means reports aren't printed \n",
    "    # at the end of each epoch\n",
    "    model.fit(X_train, y_train, batch_size=32, epochs=50, \n",
    "              validation_data=(X_val, y_val), verbose = 0)\n",
    "\n",
    "    # Make predictions\n",
    "    predictions = model.predict(X)\n",
    "\n",
    "    pred_df = pd.DataFrame(predictions)\n",
    "    \n",
    "    return predictions_to_returns(pred_df, y)\n",
    "\n",
    "def predictions_to_returns(pred_df, y):\n",
    "    # Given the predictions of each factor for each day, calculate our\n",
    "    # strategy for each day, and the returns for each day\n",
    "    \n",
    "    # Apply our strategy to our predictions\n",
    "    strat_df = pred_df.apply(lambda row : max_predicted_factor_strat(row), axis = 1)\n",
    "\n",
    "    # Calculate our returns\n",
    "    return_vector = np.multiply(strat_df,y).apply(sum, axis = 1)\n",
    "    \n",
    "    return strat_df, return_vector\n",
    "    \n",
    "\n",
    "def max_predicted_factor_strat(row):\n",
    "    # For each day, set our strategy to be the factor with\n",
    "    # the highest predicted return\n",
    "    max_pred_return = max(row)\n",
    "    row_list = [x == max_pred_return for x in row]\n",
    "    return pd.Series(row_list)"
   ]
  },
  {
   "attachments": {},
   "cell_type": "markdown",
   "metadata": {
    "id": "765ed3e4"
   },
   "source": [
    "## Question 0 - Run the Neural Net and Interpet the alpha\n",
    "The following code fits a feed-forward neural net on all data, and prints a summary.\n",
    "Run the code and provide an interpretation of the alpha.\n",
    "\n",
    "```\n",
    "fitting_returns_data(\n",
    "    'ff6_factors_19630701_20230131.csv', \n",
    "    io_day_1_lag, \n",
    "    model_feed_forward);\n",
    "```\n",
    "\n",
    "**Note**: The test-train split we're employing in these model fits is faulty. We use data from the future to predict our model, so all results here have some level of overfitting. However, I separately fit the models by only using past data, and we were able to get similar results, so the results still seem robust to the potential overfitting.\n",
    "\n",
    "### Question 0 Solution"
   ]
  },
  {
   "cell_type": "code",
   "execution_count": 2,
   "metadata": {
    "colab": {
     "base_uri": "https://localhost:8080/"
    },
    "id": "3f49a61a",
    "outputId": "9c1c2671-546a-42ca-a0c3-23281b31da88",
    "scrolled": true
   },
   "outputs": [
    {
     "name": "stderr",
     "output_type": "stream",
     "text": [
      "2023-05-22 21:21:39.290099: I tensorflow/core/platform/cpu_feature_guard.cc:193] This TensorFlow binary is optimized with oneAPI Deep Neural Network Library (oneDNN) to use the following CPU instructions in performance-critical operations:  SSE4.1 SSE4.2\n",
      "To enable them in other operations, rebuild TensorFlow with the appropriate compiler flags.\n"
     ]
    },
    {
     "name": "stdout",
     "output_type": "stream",
     "text": [
      "469/469 [==============================] - 0s 307us/step\n",
      "                            OLS Regression Results                            \n",
      "==============================================================================\n",
      "Dep. Variable:                      y   R-squared:                       0.229\n",
      "Model:                            OLS   Adj. R-squared:                  0.229\n",
      "Method:                 Least Squares   F-statistic:                     743.9\n",
      "Date:                Mon, 22 May 2023   Prob (F-statistic):               0.00\n",
      "Time:                        21:21:50   Log-Likelihood:                -16248.\n",
      "No. Observations:               14998   AIC:                         3.251e+04\n",
      "Df Residuals:                   14991   BIC:                         3.256e+04\n",
      "Df Model:                           6                                         \n",
      "Covariance Type:            nonrobust                                         \n",
      "==============================================================================\n",
      "                 coef    std err          t      P>|t|      [0.025      0.975]\n",
      "------------------------------------------------------------------------------\n",
      "const          0.1170      0.006     19.961      0.000       0.105       0.128\n",
      "Mkt-RF         0.3986      0.006     63.492      0.000       0.386       0.411\n",
      "SMB            0.0099      0.011      0.867      0.386      -0.013       0.032\n",
      "HML            0.2035      0.013     15.462      0.000       0.178       0.229\n",
      "RMW            0.1530      0.016      9.711      0.000       0.122       0.184\n",
      "CMA            0.1041      0.020      5.144      0.000       0.064       0.144\n",
      "MOM            0.1763      0.008     21.537      0.000       0.160       0.192\n",
      "==============================================================================\n",
      "Omnibus:                     3847.057   Durbin-Watson:                   1.941\n",
      "Prob(Omnibus):                  0.000   Jarque-Bera (JB):           284441.335\n",
      "Skew:                           0.196   Prob(JB):                         0.00\n",
      "Kurtosis:                      24.331   Cond. No.                         4.01\n",
      "==============================================================================\n",
      "\n",
      "Notes:\n",
      "[1] Standard Errors assume that the covariance matrix of the errors is correctly specified.\n"
     ]
    }
   ],
   "source": [
    "# Calculate returns and alphas using feed forward neural net model\n",
    "fitting_returns_data(\n",
    "    'ff6_factors_19630701_20230131.csv', \n",
    "    io_day_1_lag, \n",
    "    model_feed_forward);"
   ]
  },
  {
   "attachments": {},
   "cell_type": "markdown",
   "id": "1b7d127a",
   "metadata": {},
   "source": [
    "The alpha is 0.1170 with a p-value of 0 (to 3 significant figures). The p-value indicates the results are strongly statistically significant at a 1% significance level (and even lower). The alpha itself is positive, indicating that the strategy has a higher average return than expected (i.e., than the market). This alpha is not large, but it is performing well. "
   ]
  },
  {
   "attachments": {},
   "cell_type": "markdown",
   "metadata": {
    "id": "d26d6dd8"
   },
   "source": [
    "## Question 1 - Comparing Neural Net to OLS\n",
    "\n",
    "### 1ai [20 points] Set a linear activation function\n",
    "For the feed-forward neural net that is fit above, the `model_feed_forward` function sets up activation across hidden layers with the following code:\n",
    "\n",
    "```\n",
    "model = Sequential()\n",
    "model.add(Dense(32, activation='relu', input_shape=(6,)))\n",
    "model.add(Dense(16, activation='relu'))\n",
    "model.add(Dense(6, activation='linear'))\n",
    "```\n",
    "\n",
    "Write a new function called `model_feed_forward_linear`, which changes the `'relu'` parameter to `'linear'`. \n",
    "\n",
    "\n",
    "Calculate reults for the neural net with linear activation. How does this compare to the ReLU activation from Question 0? \n",
    "\n",
    "### Solution 1ai "
   ]
  },
  {
   "cell_type": "code",
   "execution_count": 3,
   "metadata": {
    "colab": {
     "base_uri": "https://localhost:8080/"
    },
    "id": "c1106235",
    "outputId": "17fa6949-ff7c-4192-9949-18fb199e8e6f"
   },
   "outputs": [
    {
     "name": "stdout",
     "output_type": "stream",
     "text": [
      "469/469 [==============================] - 0s 334us/step\n",
      "                            OLS Regression Results                            \n",
      "==============================================================================\n",
      "Dep. Variable:                      y   R-squared:                       0.129\n",
      "Model:                            OLS   Adj. R-squared:                  0.129\n",
      "Method:                 Least Squares   F-statistic:                     371.3\n",
      "Date:                Mon, 22 May 2023   Prob (F-statistic):               0.00\n",
      "Time:                        21:22:01   Log-Likelihood:                -15563.\n",
      "No. Observations:               14998   AIC:                         3.114e+04\n",
      "Df Residuals:                   14991   BIC:                         3.119e+04\n",
      "Df Model:                           6                                         \n",
      "Covariance Type:            nonrobust                                         \n",
      "==============================================================================\n",
      "                 coef    std err          t      P>|t|      [0.025      0.975]\n",
      "------------------------------------------------------------------------------\n",
      "const          0.0800      0.006     14.290      0.000       0.069       0.091\n",
      "Mkt-RF         0.1888      0.006     31.474      0.000       0.177       0.201\n",
      "SMB            0.1782      0.011     16.318      0.000       0.157       0.200\n",
      "HML            0.1611      0.013     12.813      0.000       0.136       0.186\n",
      "RMW            0.1217      0.015      8.087      0.000       0.092       0.151\n",
      "CMA            0.3041      0.019     15.734      0.000       0.266       0.342\n",
      "MOM            0.2156      0.008     27.570      0.000       0.200       0.231\n",
      "==============================================================================\n",
      "Omnibus:                     4233.938   Durbin-Watson:                   2.011\n",
      "Prob(Omnibus):                  0.000   Jarque-Bera (JB):           332784.058\n",
      "Skew:                          -0.396   Prob(JB):                         0.00\n",
      "Kurtosis:                      26.063   Cond. No.                         4.01\n",
      "==============================================================================\n",
      "\n",
      "Notes:\n",
      "[1] Standard Errors assume that the covariance matrix of the errors is correctly specified.\n"
     ]
    }
   ],
   "source": [
    "# Define linear feed-forward neural net based on model_feed_forward\n",
    "def model_feed_forward_linear(X, y, X_train, y_train, X_val, y_val):\n",
    "    # Define the neural network model\n",
    "    model = Sequential()\n",
    "    model.add(Dense(32, activation='linear', input_shape=(X.shape[1],)))\n",
    "    model.add(Dense(16, activation='linear'))\n",
    "    model.add(Dense(6, activation='linear'))\n",
    "    \n",
    "    # Compile the model\n",
    "    model.compile(loss='mean_squared_error', optimizer='adam')\n",
    "\n",
    "    # Train the model, verbose = 0 means reports aren't printed \n",
    "    # at the end of each epoch\n",
    "    model.fit(X_train, y_train, batch_size=32, epochs=50, \n",
    "              validation_data=(X_val, y_val), verbose = 0)\n",
    "\n",
    "    # Make predictions\n",
    "    predictions = model.predict(X)\n",
    "\n",
    "    pred_df = pd.DataFrame(predictions)\n",
    "    \n",
    "    return predictions_to_returns(pred_df, y)\n",
    "\n",
    "# Calculate returns and alphas from linear neural net\n",
    "fitting_returns_data(\n",
    "    'ff6_factors_19630701_20230131.csv', \n",
    "    io_day_1_lag, \n",
    "    model_feed_forward_linear);"
   ]
  },
  {
   "attachments": {},
   "cell_type": "markdown",
   "id": "d700eba6",
   "metadata": {},
   "source": [
    "This seems to result in lower alpha compared to the ReLU activation from question 0, and is still statistically significant."
   ]
  },
  {
   "attachments": {},
   "cell_type": "markdown",
   "metadata": {
    "id": "XzogcR_otKvx"
   },
   "source": [
    "\n",
    "### 1aii [10 points] Compare with linear model\n",
    "\n",
    "The following code defines a function called `model_linear_fit`, which fits a linear model on y_train and X_train and outputs the predicted return given `X`, called `pred_df`. The function then calculates the  returns of the linear model by running `predictions_to_returns(pred_df, y)`. \n",
    "\n",
    "Since the neural net is only fitting on linear relationships, we should see similar results across the linear neural net and the linear OLS model here. \n",
    "\n",
    "Calculate reults for the linear model below. How does the alpha compare to the linear neural net?  \n",
    "\n",
    "### Solution 1aii "
   ]
  },
  {
   "cell_type": "code",
   "execution_count": 4,
   "metadata": {
    "colab": {
     "base_uri": "https://localhost:8080/"
    },
    "id": "09d97083",
    "outputId": "b4e476d0-0212-4f38-a71c-0eb7f81d7b46",
    "scrolled": true
   },
   "outputs": [
    {
     "name": "stdout",
     "output_type": "stream",
     "text": [
      "                            OLS Regression Results                            \n",
      "==============================================================================\n",
      "Dep. Variable:                      y   R-squared:                       0.119\n",
      "Model:                            OLS   Adj. R-squared:                  0.118\n",
      "Method:                 Least Squares   F-statistic:                     336.3\n",
      "Date:                Mon, 22 May 2023   Prob (F-statistic):               0.00\n",
      "Time:                        21:22:03   Log-Likelihood:                -15641.\n",
      "No. Observations:               14998   AIC:                         3.130e+04\n",
      "Df Residuals:                   14991   BIC:                         3.135e+04\n",
      "Df Model:                           6                                         \n",
      "Covariance Type:            nonrobust                                         \n",
      "==============================================================================\n",
      "                 coef    std err          t      P>|t|      [0.025      0.975]\n",
      "------------------------------------------------------------------------------\n",
      "const          0.0871      0.006     15.470      0.000       0.076       0.098\n",
      "Mkt-RF         0.1455      0.006     24.132      0.000       0.134       0.157\n",
      "SMB            0.1490      0.011     13.572      0.000       0.127       0.170\n",
      "HML            0.2010      0.013     15.898      0.000       0.176       0.226\n",
      "RMW            0.1590      0.015     10.511      0.000       0.129       0.189\n",
      "CMA            0.1625      0.019      8.363      0.000       0.124       0.201\n",
      "MOM            0.2603      0.008     33.114      0.000       0.245       0.276\n",
      "==============================================================================\n",
      "Omnibus:                     3869.380   Durbin-Watson:                   2.002\n",
      "Prob(Omnibus):                  0.000   Jarque-Bera (JB):           267624.928\n",
      "Skew:                          -0.259   Prob(JB):                         0.00\n",
      "Kurtosis:                      23.688   Cond. No.                         4.01\n",
      "==============================================================================\n",
      "\n",
      "Notes:\n",
      "[1] Standard Errors assume that the covariance matrix of the errors is correctly specified.\n"
     ]
    }
   ],
   "source": [
    "# Define linear OLS model\n",
    "## Linear Model Fit\n",
    "def model_linear_fit(X, y, X_train, y_train, X_val, y_val):\n",
    "    model_OLS = sm.OLS(y_train, X_train).fit()\n",
    "    # Make predictions\n",
    "    predictions = model_OLS.predict(X)\n",
    "\n",
    "    pred_df = pd.DataFrame(predictions)\n",
    "    \n",
    "    return predictions_to_returns(pred_df, y)\n",
    "\n",
    "# Calculate returns and alphas using linear OLS model\n",
    "fitting_returns_data(\n",
    "    'ff6_factors_19630701_20230131.csv', \n",
    "    io_day_1_lag, \n",
    "    model_linear_fit);"
   ]
  },
  {
   "attachments": {},
   "cell_type": "markdown",
   "id": "ede96b6e",
   "metadata": {},
   "source": [
    "This results in very slighlty higher alpha than the linear neural net, and is also statistically significant."
   ]
  },
  {
   "attachments": {},
   "cell_type": "markdown",
   "metadata": {
    "id": "746c7ff9"
   },
   "source": [
    "### 1b [20 points] Include Interaction Terms\n",
    "Linear models don't account for any interaction effects. In order to account for an interaction we can add input variables that give the product of factor returns on each day. This would be analogous to adding a interaction term to a linear model.\n",
    "\n",
    "Using the io_ function `io_day_1_lag_second_order_input`, and your `model_linear_fit` function, calculate returns while including second order inputs.\n",
    "\n",
    "Write a new io_ function `io_day_lag_third_order_input`, to also include third order fits in your input data.\n",
    "\n",
    "How do these models compare to the ReLU alpha?\n",
    "\n",
    "\n",
    "### Solution 1b"
   ]
  },
  {
   "cell_type": "code",
   "execution_count": 5,
   "metadata": {
    "colab": {
     "base_uri": "https://localhost:8080/"
    },
    "id": "4e2921ed",
    "outputId": "59dc011b-4959-4d57-ac44-632dc2dfd303",
    "scrolled": true
   },
   "outputs": [
    {
     "name": "stdout",
     "output_type": "stream",
     "text": [
      "                            OLS Regression Results                            \n",
      "==============================================================================\n",
      "Dep. Variable:                      y   R-squared:                       0.173\n",
      "Model:                            OLS   Adj. R-squared:                  0.173\n",
      "Method:                 Least Squares   F-statistic:                     523.4\n",
      "Date:                Mon, 22 May 2023   Prob (F-statistic):               0.00\n",
      "Time:                        21:22:04   Log-Likelihood:                -16011.\n",
      "No. Observations:               14998   AIC:                         3.204e+04\n",
      "Df Residuals:                   14991   BIC:                         3.209e+04\n",
      "Df Model:                           6                                         \n",
      "Covariance Type:            nonrobust                                         \n",
      "==============================================================================\n",
      "                 coef    std err          t      P>|t|      [0.025      0.975]\n",
      "------------------------------------------------------------------------------\n",
      "const          0.0942      0.006     16.334      0.000       0.083       0.106\n",
      "Mkt-RF         0.3100      0.006     50.173      0.000       0.298       0.322\n",
      "SMB            0.1059      0.011      9.416      0.000       0.084       0.128\n",
      "HML            0.2228      0.013     17.195      0.000       0.197       0.248\n",
      "RMW            0.1220      0.016      7.866      0.000       0.092       0.152\n",
      "CMA            0.1692      0.020      8.498      0.000       0.130       0.208\n",
      "MOM            0.2024      0.008     25.117      0.000       0.187       0.218\n",
      "==============================================================================\n",
      "Omnibus:                     3990.396   Durbin-Watson:                   2.020\n",
      "Prob(Omnibus):                  0.000   Jarque-Bera (JB):           330467.881\n",
      "Skew:                          -0.227   Prob(JB):                         0.00\n",
      "Kurtosis:                      25.992   Cond. No.                         4.01\n",
      "==============================================================================\n",
      "\n",
      "Notes:\n",
      "[1] Standard Errors assume that the covariance matrix of the errors is correctly specified.\n"
     ]
    }
   ],
   "source": [
    "# Calculate returns and alphas using second order interactions\n",
    "\n",
    "\n",
    "fitting_returns_data(\n",
    "    'ff6_factors_19630701_20230131.csv', \n",
    "    io_day_1_lag_second_order_input, \n",
    "    model_linear_fit);"
   ]
  },
  {
   "attachments": {},
   "cell_type": "markdown",
   "id": "64b7e6c8",
   "metadata": {},
   "source": [
    "This model results in less alpha than ReLU."
   ]
  },
  {
   "cell_type": "code",
   "execution_count": 6,
   "metadata": {
    "colab": {
     "base_uri": "https://localhost:8080/"
    },
    "id": "cd49b62a",
    "outputId": "7b8b587a-3f68-4b88-8a40-298416a1bd0e",
    "scrolled": false
   },
   "outputs": [
    {
     "name": "stdout",
     "output_type": "stream",
     "text": [
      "                            OLS Regression Results                            \n",
      "==============================================================================\n",
      "Dep. Variable:                      y   R-squared:                       0.125\n",
      "Model:                            OLS   Adj. R-squared:                  0.125\n",
      "Method:                 Least Squares   F-statistic:                     356.7\n",
      "Date:                Mon, 22 May 2023   Prob (F-statistic):               0.00\n",
      "Time:                        21:22:05   Log-Likelihood:                -15751.\n",
      "No. Observations:               14998   AIC:                         3.152e+04\n",
      "Df Residuals:                   14991   BIC:                         3.157e+04\n",
      "Df Model:                           6                                         \n",
      "Covariance Type:            nonrobust                                         \n",
      "==============================================================================\n",
      "                 coef    std err          t      P>|t|      [0.025      0.975]\n",
      "------------------------------------------------------------------------------\n",
      "const          0.0995      0.006     17.556      0.000       0.088       0.111\n",
      "Mkt-RF         0.1965      0.006     32.353      0.000       0.185       0.208\n",
      "SMB            0.1253      0.011     11.327      0.000       0.104       0.147\n",
      "HML            0.1934      0.013     15.192      0.000       0.168       0.218\n",
      "RMW            0.1360      0.015      8.925      0.000       0.106       0.166\n",
      "CMA            0.1293      0.020      6.607      0.000       0.091       0.168\n",
      "MOM            0.2579      0.008     32.564      0.000       0.242       0.273\n",
      "==============================================================================\n",
      "Omnibus:                     3728.297   Durbin-Watson:                   1.878\n",
      "Prob(Omnibus):                  0.000   Jarque-Bera (JB):           271209.865\n",
      "Skew:                          -0.067   Prob(JB):                         0.00\n",
      "Kurtosis:                      23.832   Cond. No.                         4.01\n",
      "==============================================================================\n",
      "\n",
      "Notes:\n",
      "[1] Standard Errors assume that the covariance matrix of the errors is correctly specified.\n"
     ]
    }
   ],
   "source": [
    "# Define function for calculating third order interactions based on io_day_1_lag_second_order_input\n",
    "def io_day_lag_third_order_input(data):\n",
    "    X, y = io_day_1_lag(data)\n",
    "    cols = X.columns\n",
    "    for i in range(len(cols)):\n",
    "        for j in range(i+1, len(cols)):\n",
    "            for k in range(j+1, len(cols)):\n",
    "                col_name = cols[i] + '_' + cols[j] + '_' + cols[k]\n",
    "                col_values = X[cols[i]] * X[cols[j]] * X[cols[k]]\n",
    "                X[col_name] = col_values\n",
    "    return X, y\n",
    "\n",
    "# Calculate returns and alphas using third order interactions\n",
    "fitting_returns_data(\n",
    "    'ff6_factors_19630701_20230131.csv', \n",
    "    io_day_lag_third_order_input, \n",
    "    model_linear_fit);"
   ]
  },
  {
   "attachments": {},
   "cell_type": "markdown",
   "id": "eac8e078",
   "metadata": {},
   "source": [
    "This model results in less alpha than ReLU."
   ]
  },
  {
   "attachments": {},
   "cell_type": "markdown",
   "metadata": {
    "id": "b1c46887"
   },
   "source": [
    "## Question 2 - Adding Time Lag Parameters\n",
    "### 2 [25 points] Lag Time Parameters\n",
    "Our current neural net only uses the past 1 day of data. For time series data, including more lag days can be useful. For example, if a factor return is high for 2 consecutive days, that may be more informative than just knowing that the return was only high for the previous day.\n",
    "\n",
    "In this question, we will simply add a new column to our input data for each lagged data. This is analogous to an AutoRegressive Model, which is a popular financial engineering tool, [see this textbook](https://link.springer.com/book/10.1007/978-1-4939-2614-5). In the Neural Net literature, a Recurrent Neural Net is a common tool for more directly accounting for time lagged data directly in the neural net architecture, but the lagged model gets us a good amount of the way there!\n",
    "\n",
    "Starting from the `io_day_1_lag` function write an `io_day_5_lag` function, which adds to the input dataframe 5 days of lagged data per factor. This will mean your input data will now have 6*5 = 30 columns instead of 6 columns.\n",
    "\n",
    "When complete, run the following and compare results to the original ReLU model from Question 0. How do the results compare? Should we continue to to pursue incorporating lag effects in our analysis of this data?\n",
    "\n",
    "```\n",
    "fitting_returns_data(\n",
    "    'ff6_factors_19630701_20230131.csv', \n",
    "    io_day_5_lag, \n",
    "    model_feed_forward);\n",
    " ```\n",
    " \n",
    " ### Question 2 Solution"
   ]
  },
  {
   "cell_type": "code",
   "execution_count": 7,
   "metadata": {
    "colab": {
     "base_uri": "https://localhost:8080/"
    },
    "id": "3ab4fd43",
    "outputId": "2d275b24-ec34-40d9-c212-3df5e3dd9bd6",
    "scrolled": true
   },
   "outputs": [
    {
     "name": "stdout",
     "output_type": "stream",
     "text": [
      "                            OLS Regression Results                            \n",
      "==============================================================================\n",
      "Dep. Variable:                      y   R-squared:                       0.100\n",
      "Model:                            OLS   Adj. R-squared:                  0.100\n",
      "Method:                 Least Squares   F-statistic:                     278.1\n",
      "Date:                Mon, 22 May 2023   Prob (F-statistic):               0.00\n",
      "Time:                        21:22:06   Log-Likelihood:                -15238.\n",
      "No. Observations:               14994   AIC:                         3.049e+04\n",
      "Df Residuals:                   14987   BIC:                         3.054e+04\n",
      "Df Model:                           6                                         \n",
      "Covariance Type:            nonrobust                                         \n",
      "==============================================================================\n",
      "                 coef    std err          t      P>|t|      [0.025      0.975]\n",
      "------------------------------------------------------------------------------\n",
      "const          0.1056      0.005     19.265      0.000       0.095       0.116\n",
      "Mkt-RF         0.1386      0.006     23.601      0.000       0.127       0.150\n",
      "SMB            0.2035      0.011     19.041      0.000       0.183       0.224\n",
      "HML            0.1574      0.012     12.787      0.000       0.133       0.182\n",
      "RMW            0.1106      0.015      7.509      0.000       0.082       0.139\n",
      "CMA            0.1747      0.019      9.237      0.000       0.138       0.212\n",
      "MOM            0.1967      0.008     25.695      0.000       0.182       0.212\n",
      "==============================================================================\n",
      "Omnibus:                     3220.249   Durbin-Watson:                   1.973\n",
      "Prob(Omnibus):                  0.000   Jarque-Bera (JB):           122323.944\n",
      "Skew:                           0.207   Prob(JB):                         0.00\n",
      "Kurtosis:                      16.987   Cond. No.                         4.01\n",
      "==============================================================================\n",
      "\n",
      "Notes:\n",
      "[1] Standard Errors assume that the covariance matrix of the errors is correctly specified.\n"
     ]
    }
   ],
   "source": [
    "# Define function for calculating five-day lags based on io_day_1_lag\n",
    "def io_day_5_lag(data):\n",
    "    y = data.iloc[5:,:].reset_index(drop=True)\n",
    "    X = pd.concat([data.shift(i).rename(columns=lambda x: x+f'_lag{i}') for i in range(1, 6)], axis=1).dropna().reset_index(drop=True)\n",
    "    return X, y\n",
    "# Calculate returns and alphas using the feed forward neural net with\n",
    "# five day lagged input variables.\n",
    "\n",
    "fitting_returns_data(\n",
    "    'ff6_factors_19630701_20230131.csv', \n",
    "    io_day_5_lag, \n",
    "    model_linear_fit);\n"
   ]
  },
  {
   "attachments": {},
   "cell_type": "markdown",
   "metadata": {
    "id": "3c84cfba"
   },
   "source": [
    "## Question 3 - Investigating Potentials for P-Hacking\n",
    "### 3 [25 points] Randomness in Alphas\n",
    "\n",
    "Neural  nets are fit via a Stochastic Gradient Descent. This implies that there is inherent randomness in any fit of the model. One good way to account for this noise in your model is to refit the model multiple times and observe the distribution. It's more accurate to report the median or mean of these estimates, although it can be hard to tell if a paper/report has cherry-picked the best result in this way.\n",
    "\n",
    "Using the `io_day_1_lag`, and `model_feed_forward` settings, rerun the model 100 times and get a distribution for the alpha given. (You can use the `seed` parameter in the `fitting_returns_data` function if you want to be able to reproduce a given high return.)\n",
    "\n",
    "Set `print_summary = False` in `fitting_returns_data` in order to avoid large amounts of output.\n",
    "\n",
    "What's the highest return you could get if you were to ignore the importance of the robustness of a model result? What would be a downside of reporting a result like this?\n",
    "\n",
    "Note: running the model 100 times may take awhile (over an hour on Google Colab). Debug your code before attempting the 100 cycles.\n",
    "\n",
    "### Question 3 Solution\n"
   ]
  },
  {
   "cell_type": "code",
   "execution_count": 8,
   "metadata": {
    "colab": {
     "base_uri": "https://localhost:8080/",
     "height": 1000
    },
    "id": "7000f3c5",
    "outputId": "bebcb45e-cae7-4f8a-f7c4-b1d4072f1d2b"
   },
   "outputs": [
    {
     "name": "stdout",
     "output_type": "stream",
     "text": [
      "469/469 [==============================] - 0s 321us/step\n",
      "469/469 [==============================] - 0s 388us/step\n",
      "469/469 [==============================] - 0s 338us/step\n",
      "469/469 [==============================] - 0s 354us/step\n",
      "469/469 [==============================] - 0s 324us/step\n",
      "469/469 [==============================] - 0s 369us/step\n",
      "469/469 [==============================] - 0s 322us/step\n",
      "469/469 [==============================] - 0s 323us/step\n",
      "469/469 [==============================] - 0s 315us/step\n",
      "469/469 [==============================] - 0s 320us/step\n",
      "469/469 [==============================] - 0s 324us/step\n",
      "469/469 [==============================] - 0s 319us/step\n",
      "469/469 [==============================] - 0s 327us/step\n",
      "469/469 [==============================] - 0s 376us/step\n",
      "469/469 [==============================] - 0s 324us/step\n",
      "469/469 [==============================] - 0s 316us/step\n",
      "469/469 [==============================] - 0s 315us/step\n",
      "469/469 [==============================] - 0s 317us/step\n",
      "469/469 [==============================] - 0s 323us/step\n",
      "469/469 [==============================] - 0s 316us/step\n",
      "469/469 [==============================] - 0s 317us/step\n",
      "469/469 [==============================] - 0s 306us/step\n",
      "469/469 [==============================] - 0s 307us/step\n",
      "469/469 [==============================] - 0s 317us/step\n",
      "469/469 [==============================] - 0s 304us/step\n",
      "469/469 [==============================] - 0s 304us/step\n",
      "469/469 [==============================] - 0s 310us/step\n",
      "469/469 [==============================] - 0s 306us/step\n",
      "469/469 [==============================] - 0s 320us/step\n",
      "469/469 [==============================] - 0s 357us/step\n",
      "469/469 [==============================] - 0s 307us/step\n",
      "469/469 [==============================] - 0s 308us/step\n",
      "469/469 [==============================] - 0s 307us/step\n",
      "469/469 [==============================] - 0s 304us/step\n",
      "469/469 [==============================] - 0s 394us/step\n",
      "469/469 [==============================] - 0s 313us/step\n",
      "469/469 [==============================] - 0s 470us/step\n",
      "469/469 [==============================] - 0s 320us/step\n",
      "469/469 [==============================] - 0s 441us/step\n",
      "469/469 [==============================] - 0s 334us/step\n",
      "469/469 [==============================] - 0s 331us/step\n",
      "469/469 [==============================] - 0s 302us/step\n",
      "469/469 [==============================] - 0s 308us/step\n",
      "469/469 [==============================] - 0s 307us/step\n",
      "469/469 [==============================] - 0s 306us/step\n",
      "469/469 [==============================] - 0s 312us/step\n",
      "469/469 [==============================] - 0s 318us/step\n",
      "469/469 [==============================] - 0s 311us/step\n",
      "469/469 [==============================] - 0s 316us/step\n",
      "469/469 [==============================] - 0s 314us/step\n",
      "469/469 [==============================] - 0s 302us/step\n",
      "469/469 [==============================] - 0s 310us/step\n",
      "469/469 [==============================] - 0s 308us/step\n",
      "469/469 [==============================] - 0s 305us/step\n",
      "469/469 [==============================] - 0s 308us/step\n",
      "469/469 [==============================] - 0s 311us/step\n",
      "469/469 [==============================] - 0s 304us/step\n",
      "469/469 [==============================] - 0s 302us/step\n",
      "469/469 [==============================] - 0s 308us/step\n",
      "469/469 [==============================] - 0s 307us/step\n",
      "469/469 [==============================] - 0s 300us/step\n",
      "469/469 [==============================] - 0s 340us/step\n",
      "469/469 [==============================] - 0s 304us/step\n",
      "469/469 [==============================] - 0s 306us/step\n",
      "469/469 [==============================] - 0s 306us/step\n",
      "469/469 [==============================] - 0s 456us/step\n",
      "469/469 [==============================] - 0s 330us/step\n",
      "469/469 [==============================] - 0s 324us/step\n",
      "469/469 [==============================] - 0s 317us/step\n",
      "469/469 [==============================] - 0s 306us/step\n",
      "469/469 [==============================] - 0s 355us/step\n",
      "469/469 [==============================] - 0s 370us/step\n",
      "469/469 [==============================] - 0s 333us/step\n",
      "469/469 [==============================] - 0s 317us/step\n",
      "469/469 [==============================] - 0s 305us/step\n",
      "469/469 [==============================] - 0s 303us/step\n",
      "469/469 [==============================] - 0s 314us/step\n",
      "469/469 [==============================] - 0s 316us/step\n",
      "469/469 [==============================] - 0s 350us/step\n",
      "469/469 [==============================] - 0s 319us/step\n",
      "469/469 [==============================] - 0s 311us/step\n",
      "469/469 [==============================] - 0s 342us/step\n",
      "469/469 [==============================] - 0s 310us/step\n",
      "469/469 [==============================] - 0s 304us/step\n",
      "469/469 [==============================] - 0s 301us/step\n",
      "469/469 [==============================] - 0s 330us/step\n",
      "469/469 [==============================] - 0s 309us/step\n",
      "469/469 [==============================] - 0s 311us/step\n",
      "469/469 [==============================] - 0s 305us/step\n",
      "469/469 [==============================] - 0s 317us/step\n",
      "469/469 [==============================] - 0s 305us/step\n",
      "469/469 [==============================] - 0s 320us/step\n",
      "469/469 [==============================] - 0s 315us/step\n",
      "469/469 [==============================] - 0s 351us/step\n",
      "469/469 [==============================] - 0s 320us/step\n",
      "469/469 [==============================] - 0s 324us/step\n",
      "469/469 [==============================] - 0s 337us/step\n",
      "469/469 [==============================] - 0s 326us/step\n",
      "469/469 [==============================] - 0s 316us/step\n",
      "469/469 [==============================] - 0s 316us/step\n"
     ]
    }
   ],
   "source": [
    "# Rerun model 100 times\n",
    "alpha_values = []\n",
    "for i in range(100):\n",
    "    _, _, model_OLS = fitting_returns_data(\n",
    "        'ff6_factors_19630701_20230131.csv', \n",
    "        io_day_1_lag, \n",
    "        model_feed_forward, \n",
    "        seed=i, \n",
    "        print_summary=False\n",
    "    )\n",
    "    alpha_values.append(model_OLS.params[0])  # Assuming alpha is the intercept term\n"
   ]
  },
  {
   "cell_type": "code",
   "execution_count": 9,
   "id": "c00f800b",
   "metadata": {},
   "outputs": [
    {
     "data": {
      "text/plain": [
       "0.13298627654264922"
      ]
     },
     "execution_count": 9,
     "metadata": {},
     "output_type": "execute_result"
    }
   ],
   "source": [
    "max(alpha_values)"
   ]
  },
  {
   "attachments": {},
   "cell_type": "markdown",
   "id": "d584cc4b",
   "metadata": {},
   "source": [
    "The highest return you could get is an alpha of 0.1329. The downside of reporting a result like this is that it's likely the result of noise / overfitting, and not reproducable"
   ]
  }
 ],
 "metadata": {
  "colab": {
   "provenance": []
  },
  "kernelspec": {
   "display_name": "bem114",
   "language": "python",
   "name": "python3"
  },
  "language_info": {
   "codemirror_mode": {
    "name": "ipython",
    "version": 3
   },
   "file_extension": ".py",
   "mimetype": "text/x-python",
   "name": "python",
   "nbconvert_exporter": "python",
   "pygments_lexer": "ipython3",
   "version": "3.8.3"
  }
 },
 "nbformat": 4,
 "nbformat_minor": 5
}
